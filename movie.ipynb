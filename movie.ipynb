{
 "cells": [
  {
   "cell_type": "code",
   "execution_count": null,
   "id": "38b803a2",
   "metadata": {},
   "outputs": [],
   "source": [
    "#importing the libraries needed \n",
    "import pandas as pd \n",
    "import numpy as np \n",
    "import seaborn as sns\n",
    "import matplotlib.pyplot as plt "
   ]
  },
  {
   "cell_type": "code",
   "execution_count": null,
   "id": "64a11f9f",
   "metadata": {},
   "outputs": [],
   "source": [
    "#importing the dataset \n",
    "movieRatings = pd.read_csv(\"tv_shows.csv\", index_col= [0])\n",
    "movieRatings.head()"
   ]
  },
  {
   "cell_type": "code",
   "execution_count": null,
   "id": "528cdfe1",
   "metadata": {},
   "outputs": [],
   "source": [
    "movieRatings.dtypes"
   ]
  },
  {
   "cell_type": "code",
   "execution_count": null,
   "id": "e272172d",
   "metadata": {},
   "outputs": [],
   "source": [
    "#describe command to describe the data type \n",
    "movieRatings.describe()"
   ]
  },
  {
   "cell_type": "code",
   "execution_count": null,
   "id": "ebc70c74",
   "metadata": {},
   "outputs": [],
   "source": [
    "movieRatings.IMDb.describe()"
   ]
  },
  {
   "cell_type": "code",
   "execution_count": null,
   "id": "d24d25ee",
   "metadata": {},
   "outputs": [],
   "source": [
    "#cleaning the dataset \n",
    "#check duplicate values \n",
    "movieRatings.duplicated()"
   ]
  },
  {
   "cell_type": "code",
   "execution_count": null,
   "id": "5dd1bc55",
   "metadata": {},
   "outputs": [],
   "source": [
    "movieRatings.isnull()"
   ]
  },
  {
   "cell_type": "code",
   "execution_count": null,
   "id": "7d6a109b",
   "metadata": {},
   "outputs": [],
   "source": [
    "#dropping null values \n",
    "movieRatings.dropna(axis=0, how ='any').shape"
   ]
  },
  {
   "cell_type": "code",
   "execution_count": null,
   "id": "09377a66",
   "metadata": {},
   "outputs": [],
   "source": [
    "movieRatings.dropna(axis=0, how ='any', inplace = True)"
   ]
  },
  {
   "cell_type": "code",
   "execution_count": null,
   "id": "01b8aeab",
   "metadata": {},
   "outputs": [],
   "source": [
    "movieRatings.isnull()"
   ]
  },
  {
   "cell_type": "code",
   "execution_count": null,
   "id": "6ef19086",
   "metadata": {},
   "outputs": [],
   "source": [
    "movieRatings.dtypes"
   ]
  },
  {
   "cell_type": "code",
   "execution_count": null,
   "id": "82d24598",
   "metadata": {},
   "outputs": [],
   "source": [
    "movieRatings.rename(columns = {\"Rotten Tomatoes\": \"RottenTomatoes\"}, inplace=True)\n",
    "movieRatings.rename(columns = {\"Prime Video\": \"PrimeVideo\"}, inplace=True)"
   ]
  },
  {
   "cell_type": "code",
   "execution_count": null,
   "id": "e9b4c63b",
   "metadata": {},
   "outputs": [],
   "source": [
    "movieRatings.head()"
   ]
  },
  {
   "cell_type": "code",
   "execution_count": null,
   "id": "ded3818a",
   "metadata": {
    "scrolled": true
   },
   "outputs": [],
   "source": [
    "movieRatings.sort_values(by= \"RottenTomatoes\", ascending=False).head(10)"
   ]
  },
  {
   "cell_type": "code",
   "execution_count": null,
   "id": "387bf338",
   "metadata": {},
   "outputs": [],
   "source": []
  },
  {
   "cell_type": "code",
   "execution_count": null,
   "id": "10b2c361",
   "metadata": {},
   "outputs": [],
   "source": [
    "netflix = movieRatings['Netflix'].sum()\n",
    "hulu = movieRatings['Hulu'].sum()\n",
    "disney = movieRatings['Disney+'].sum()\n",
    "prime = movieRatings['PrimeVideo'].sum()\n",
    "labels = ['Netflix', 'Hulu', 'Disney+', 'Prime Video']\n",
    "values = [netflix, hulu, disney, prime]\n",
    "plt.pie(values, labels = labels)\n",
    "plt.legend(title=\"Users Around Different OTT Pltafroms\")\n",
    "\n"
   ]
  },
  {
   "cell_type": "code",
   "execution_count": null,
   "id": "1c4abc83",
   "metadata": {},
   "outputs": [],
   "source": [
    "year = movieRatings['Age'].unique()\n",
    "year"
   ]
  },
  {
   "cell_type": "code",
   "execution_count": null,
   "id": "81f51f8f",
   "metadata": {},
   "outputs": [],
   "source": [
    "age1 = movieRatings['Age'].value_counts()\n",
    "age1"
   ]
  },
  {
   "cell_type": "code",
   "execution_count": null,
   "id": "d36429bc",
   "metadata": {},
   "outputs": [],
   "source": [
    "plot.bar()"
   ]
  }
 ],
 "metadata": {
  "kernelspec": {
   "display_name": "Python 3 (ipykernel)",
   "language": "python",
   "name": "python3"
  },
  "language_info": {
   "codemirror_mode": {
    "name": "ipython",
    "version": 3
   },
   "file_extension": ".py",
   "mimetype": "text/x-python",
   "name": "python",
   "nbconvert_exporter": "python",
   "pygments_lexer": "ipython3",
   "version": "3.9.7"
  }
 },
 "nbformat": 4,
 "nbformat_minor": 5
}
